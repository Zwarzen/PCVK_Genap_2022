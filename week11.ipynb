{
  "nbformat": 4,
  "nbformat_minor": 0,
  "metadata": {
    "colab": {
      "name": "week11.ipynb",
      "provenance": [],
      "collapsed_sections": [],
      "authorship_tag": "ABX9TyNRutvoRfCNg5er1e059wNW",
      "include_colab_link": true
    },
    "kernelspec": {
      "name": "python3",
      "display_name": "Python 3"
    },
    "language_info": {
      "name": "python"
    }
  },
  "cells": [
    {
      "cell_type": "markdown",
      "metadata": {
        "id": "view-in-github",
        "colab_type": "text"
      },
      "source": [
        "<a href=\"https://colab.research.google.com/github/Zwarzen/PCVK_Genap_2022/blob/main/week11.ipynb\" target=\"_parent\"><img src=\"https://colab.research.google.com/assets/colab-badge.svg\" alt=\"Open In Colab\"/></a>"
      ]
    },
    {
      "cell_type": "markdown",
      "source": [
        "# Object Detection\n",
        "\n",
        "metode yang digunakan :\n",
        "1. Template Matching\n",
        "2. Edge Detection\n",
        "3. Corner Detection\n",
        "4. Grid Detection\n",
        "5. Contour Detection\n"
      ],
      "metadata": {
        "id": "EWxvD4TYubRx"
      }
    },
    {
      "cell_type": "code",
      "execution_count": 1,
      "metadata": {
        "id": "R26rKyhytzIR"
      },
      "outputs": [],
      "source": [
        "# Import Lib\n",
        "import cv2 as cv\n",
        "import numpy as np\n",
        "from matplotlib import pyplot as plt"
      ]
    },
    {
      "cell_type": "code",
      "source": [
        "# akses drive\n",
        "from google.colab import drive\n",
        "\n",
        "drive.mount('/content/drive')"
      ],
      "metadata": {
        "colab": {
          "base_uri": "https://localhost:8080/"
        },
        "id": "aNsaUBPYuxTH",
        "outputId": "c84ea665-f800-47bf-c836-82c1d854b16a"
      },
      "execution_count": 2,
      "outputs": [
        {
          "output_type": "stream",
          "name": "stdout",
          "text": [
            "Mounted at /content/drive\n"
          ]
        }
      ]
    },
    {
      "cell_type": "markdown",
      "source": [
        "# Template Matching\n",
        "\n",
        "menggunakan lib opencv:\n",
        "\n",
        "cv.matchTemplate(), dengan param:\n",
        "\n",
        "- image: citra input \n",
        "- templ: template yang dicari, ukuran tidak boleh lebih besar dari input\n",
        "- method: metode dari template matching \n",
        "\n",
        "jenis metode template matching opencv: \n",
        "1. TM_SQDIFF\n",
        "2. TM_SQDIFF_NORMED\n",
        "3. TM_CCORR\n",
        "4. TM_CCORR_NORMED\n",
        "5. TM_CCOEFF\n",
        "6. TM_CCOEFF_NORMED"
      ],
      "metadata": {
        "id": "SJsqE_vJyPUp"
      }
    },
    {
      "cell_type": "code",
      "source": [
        ""
      ],
      "metadata": {
        "id": "U_fOFC2WyO52"
      },
      "execution_count": null,
      "outputs": []
    }
  ]
}