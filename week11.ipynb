{
  "nbformat": 4,
  "nbformat_minor": 0,
  "metadata": {
    "colab": {
      "name": "week11.ipynb",
      "provenance": [],
      "collapsed_sections": [],
      "authorship_tag": "ABX9TyOwAzGhW3oUwRqapPTePuIg",
      "include_colab_link": true
    },
    "kernelspec": {
      "name": "python3",
      "display_name": "Python 3"
    },
    "language_info": {
      "name": "python"
    }
  },
  "cells": [
    {
      "cell_type": "markdown",
      "metadata": {
        "id": "view-in-github",
        "colab_type": "text"
      },
      "source": [
        "<a href=\"https://colab.research.google.com/github/Zwarzen/PCVK_Genap_2022/blob/main/week11.ipynb\" target=\"_parent\"><img src=\"https://colab.research.google.com/assets/colab-badge.svg\" alt=\"Open In Colab\"/></a>"
      ]
    },
    {
      "cell_type": "markdown",
      "source": [
        "# Object Detection\n",
        "\n",
        "metode yang digunakan :\n",
        "1. Template Matching\n",
        "2. Edge Detection\n",
        "3. Corner Detection\n",
        "4. Grid Detection\n",
        "5. Contour Detection\n"
      ],
      "metadata": {
        "id": "EWxvD4TYubRx"
      }
    },
    {
      "cell_type": "code",
      "execution_count": 1,
      "metadata": {
        "id": "R26rKyhytzIR"
      },
      "outputs": [],
      "source": [
        "# Import Lib\n",
        "import cv2 as cv\n",
        "import numpy as np\n",
        "from matplotlib import pyplot as plt"
      ]
    },
    {
      "cell_type": "code",
      "source": [
        "# akses drive\n",
        "from google.colab import drive\n",
        "\n",
        "drive.mount('/content/drive')"
      ],
      "metadata": {
        "colab": {
          "base_uri": "https://localhost:8080/"
        },
        "id": "aNsaUBPYuxTH",
        "outputId": "bca84412-f755-4fe1-cb64-86a87b6149bf"
      },
      "execution_count": 2,
      "outputs": [
        {
          "output_type": "stream",
          "name": "stdout",
          "text": [
            "Mounted at /content/drive\n"
          ]
        }
      ]
    },
    {
      "cell_type": "markdown",
      "source": [
        "# Template Matching\n",
        "\n",
        "menggunakan lib opencv:\n",
        "\n",
        "cv.matchTemplate(), dengan param:\n",
        "\n",
        "- image: citra input \n",
        "- templ: template yang dicari, ukuran tidak boleh lebih besar dari input\n",
        "- method: metode dari template matching \n",
        "\n",
        "jenis metode template matching opencv: \n",
        "1. TM_SQDIFF\n",
        "2. TM_SQDIFF_NORMED\n",
        "3. TM_CCORR\n",
        "4. TM_CCORR_NORMED\n",
        "5. TM_CCOEFF\n",
        "6. TM_CCOEFF_NORMED"
      ],
      "metadata": {
        "id": "SJsqE_vJyPUp"
      }
    },
    {
      "cell_type": "code",
      "source": [
        "from __future__ import print_function\n",
        "import sys\n",
        "\n",
        "## [global_variables]\n",
        "use_mask = False\n",
        "img = None # cv.imread('/content/drive/MyDrive/Images/Object Detection/cats_and_bunnies.jpg')\n",
        "templ = None # cv.imread('/content/drive/MyDrive/Images/Object Detection/cat2_templatejpg.jpg')\n",
        "mask = None # np.zeros(img.shape, dtype = \"uint8\")\n",
        "image_window = \"Source Image\"\n",
        "result_window = \"Result window\"\n",
        "\n",
        "match_method = 0\n",
        "max_Trackbar = 5\n",
        "\n",
        "## [global_variables]\n",
        "\n",
        "def main(argv):\n",
        "\n",
        "    if (len(sys.argv) < 3):\n",
        "        print('Parameter Tidak cukup')\n",
        "        print('Usage:\\nmatch_template_demo.py <nama_gambar> <nama_template> [<nama_mask>]')\n",
        "        return -1\n",
        "\n",
        "    ## [load_image]\n",
        "    global img\n",
        "    global templ\n",
        "    img = cv.imread(sys.argv[1], cv.IMREAD_COLOR)\n",
        "    templ = cv.imread(sys.argv[2], cv.IMREAD_COLOR)\n",
        "\n",
        "    if (len(sys.argv) > 3):\n",
        "        global use_mask\n",
        "        use_mask = True\n",
        "        global mask\n",
        "        mask = cv.imread( sys.argv[3], cv.IMREAD_COLOR )\n",
        "\n",
        "    if ((img is None) or (templ is None) or (use_mask and (mask is None))):\n",
        "        print('tidak bisa membaca gambar')\n",
        "        return -1\n",
        "    ## [load_image]\n",
        "\n",
        "    ## [create_windows]\n",
        "    cv.namedWindow( image_window, cv.WINDOW_AUTOSIZE )\n",
        "    cv.namedWindow( result_window, cv.WINDOW_AUTOSIZE )\n",
        "    ## [create_windows]\n",
        "\n",
        "    ## [create_trackbar]\n",
        "    trackbar_label = 'Method: \\n 0: SQDIFF \\n 1: SQDIFF NORMED \\n 2: TM CCORR \\n 3: TM CCORR NORMED \\n 4: TM COEFF \\n 5: TM COEFF NORMED'\n",
        "    cv.createTrackbar( trackbar_label, image_window, match_method, max_Trackbar, MatchingMethod )\n",
        "    ## [create_trackbar]\n",
        "\n",
        "    MatchingMethod(match_method)\n",
        "\n",
        "    ## [wait_key]\n",
        "    cv.waitKey(0)\n",
        "    return 0\n",
        "    ## [wait_key]\n",
        "\n",
        "def MatchingMethod(param):\n",
        "\n",
        "    global match_method\n",
        "    match_method = param\n",
        "\n",
        "    ## [copy_source]\n",
        "    img_display = img.copy()\n",
        "    ## [copy_source]\n",
        "    ## [match_template]\n",
        "    method_accepts_mask = (cv.TM_SQDIFF == match_method or match_method == cv.TM_CCORR_NORMED)\n",
        "    if (use_mask and method_accepts_mask):\n",
        "        result = cv.matchTemplate(img, templ, match_method, None, mask)\n",
        "    else:\n",
        "        result = cv.matchTemplate(img, templ, match_method)\n",
        "    ## [match_template]\n",
        "\n",
        "    ## [normalize]\n",
        "    cv.normalize( result, result, 0, 1, cv.NORM_MINMAX, -1 )\n",
        "    ## [normalize]\n",
        "    ## [best_match]\n",
        "    _minVal, _maxVal, minLoc, maxLoc = cv.minMaxLoc(result, None)\n",
        "    ## [best_match]\n",
        "\n",
        "    ## [match_loc]\n",
        "    if (match_method == cv.TM_SQDIFF or match_method == cv.TM_SQDIFF_NORMED):\n",
        "        matchLoc = minLoc\n",
        "    else:\n",
        "        matchLoc = maxLoc\n",
        "    ## [match_loc]\n",
        "\n",
        "    ## [imshow]\n",
        "    cv.rectangle(img_display, matchLoc, (matchLoc[0] + templ.shape[0], matchLoc[1] + templ.shape[1]), (0,0,0), 2, 8, 0 )\n",
        "    cv.rectangle(result, matchLoc, (matchLoc[0] + templ.shape[0], matchLoc[1] + templ.shape[1]), (0,0,0), 2, 8, 0 )\n",
        "    cv.imshow(image_window, img_display)\n",
        "    cv.imshow(result_window, result)\n",
        "    ## [imshow]\n",
        "    pass\n",
        "\n",
        "if __name__ == \"__main__\":\n",
        "    main(sys.argv[1:])"
      ],
      "metadata": {
        "colab": {
          "base_uri": "https://localhost:8080/"
        },
        "id": "U_fOFC2WyO52",
        "outputId": "cda150e0-45f7-4870-b577-58604522b386"
      },
      "execution_count": 19,
      "outputs": [
        {
          "output_type": "stream",
          "name": "stdout",
          "text": [
            "tidak bisa membaca gambar\n"
          ]
        }
      ]
    },
    {
      "cell_type": "markdown",
      "source": [
        "# Alternate Template Matching"
      ],
      "metadata": {
        "id": "e2f-ZEDdxVhn"
      }
    },
    {
      "cell_type": "code",
      "source": [
        "img = cv.imread('/content/drive/MyDrive/Images/Object Detection/cats_and_bunnies.jpg')\n",
        "templ = cv.imread('/content/drive/MyDrive/Images/Object Detection/cat2_templatejpg.jpg')\n",
        "(templateHeight, templateWidth) = templ.shape[:2]\n",
        "\n",
        "matchResult = cv.matchTemplate(img, templ, cv.TM_CCOEFF)\n",
        "(_, _, minLoc, maxLoc) = cv.minMaxLoc(matchResult)\n",
        "\n",
        "topLeft = maxLoc\n",
        "botRight = (topLeft[0] + templateWidth, topLeft[1] + templateHeight)\n",
        "roi = img[topLeft[1]:botRight[1], topLeft[0]:botRight[0]]\n",
        " \n",
        "mask = np.zeros(img.shape, dtype = \"uint8\")\n",
        "img = cv.addWeighted(img, 0.25, mask, 0.75, 0)\n",
        "\n",
        "img[topLeft[1]:botRight[1], topLeft[0]:botRight[0]] = roi\n",
        " \n",
        "cv.imshow(img)\n"
      ],
      "metadata": {
        "id": "NUIJBetm28iE",
        "colab": {
          "base_uri": "https://localhost:8080/",
          "height": 374
        },
        "outputId": "fb6d2473-5b31-41cb-e7d1-b938362add41"
      },
      "execution_count": 18,
      "outputs": [
        {
          "output_type": "error",
          "ename": "DisabledFunctionError",
          "evalue": "ignored",
          "traceback": [
            "\u001b[0;31m---------------------------------------------------------------------------\u001b[0m",
            "\u001b[0;31mDisabledFunctionError\u001b[0m                     Traceback (most recent call last)",
            "\u001b[0;32m<ipython-input-18-b44038b087cb>\u001b[0m in \u001b[0;36m<module>\u001b[0;34m()\u001b[0m\n\u001b[1;32m     15\u001b[0m \u001b[0mimg\u001b[0m\u001b[0;34m[\u001b[0m\u001b[0mtopLeft\u001b[0m\u001b[0;34m[\u001b[0m\u001b[0;36m1\u001b[0m\u001b[0;34m]\u001b[0m\u001b[0;34m:\u001b[0m\u001b[0mbotRight\u001b[0m\u001b[0;34m[\u001b[0m\u001b[0;36m1\u001b[0m\u001b[0;34m]\u001b[0m\u001b[0;34m,\u001b[0m \u001b[0mtopLeft\u001b[0m\u001b[0;34m[\u001b[0m\u001b[0;36m0\u001b[0m\u001b[0;34m]\u001b[0m\u001b[0;34m:\u001b[0m\u001b[0mbotRight\u001b[0m\u001b[0;34m[\u001b[0m\u001b[0;36m0\u001b[0m\u001b[0;34m]\u001b[0m\u001b[0;34m]\u001b[0m \u001b[0;34m=\u001b[0m \u001b[0mroi\u001b[0m\u001b[0;34m\u001b[0m\u001b[0;34m\u001b[0m\u001b[0m\n\u001b[1;32m     16\u001b[0m \u001b[0;34m\u001b[0m\u001b[0m\n\u001b[0;32m---> 17\u001b[0;31m \u001b[0mcv\u001b[0m\u001b[0;34m.\u001b[0m\u001b[0mimshow\u001b[0m\u001b[0;34m(\u001b[0m\u001b[0mimg\u001b[0m\u001b[0;34m)\u001b[0m\u001b[0;34m\u001b[0m\u001b[0;34m\u001b[0m\u001b[0m\n\u001b[0m",
            "\u001b[0;32m/usr/local/lib/python3.7/dist-packages/google/colab/_import_hooks/_cv2.py\u001b[0m in \u001b[0;36mwrapped\u001b[0;34m(*args, **kwargs)\u001b[0m\n\u001b[1;32m     50\u001b[0m   \u001b[0;32mdef\u001b[0m \u001b[0mwrapped\u001b[0m\u001b[0;34m(\u001b[0m\u001b[0;34m*\u001b[0m\u001b[0margs\u001b[0m\u001b[0;34m,\u001b[0m \u001b[0;34m**\u001b[0m\u001b[0mkwargs\u001b[0m\u001b[0;34m)\u001b[0m\u001b[0;34m:\u001b[0m\u001b[0;34m\u001b[0m\u001b[0;34m\u001b[0m\u001b[0m\n\u001b[1;32m     51\u001b[0m     \u001b[0;32mif\u001b[0m \u001b[0;32mnot\u001b[0m \u001b[0mos\u001b[0m\u001b[0;34m.\u001b[0m\u001b[0menviron\u001b[0m\u001b[0;34m.\u001b[0m\u001b[0mget\u001b[0m\u001b[0;34m(\u001b[0m\u001b[0menv_var\u001b[0m\u001b[0;34m,\u001b[0m \u001b[0;32mFalse\u001b[0m\u001b[0;34m)\u001b[0m\u001b[0;34m:\u001b[0m\u001b[0;34m\u001b[0m\u001b[0;34m\u001b[0m\u001b[0m\n\u001b[0;32m---> 52\u001b[0;31m       \u001b[0;32mraise\u001b[0m \u001b[0mDisabledFunctionError\u001b[0m\u001b[0;34m(\u001b[0m\u001b[0mmessage\u001b[0m\u001b[0;34m,\u001b[0m \u001b[0mname\u001b[0m \u001b[0;32mor\u001b[0m \u001b[0mfunc\u001b[0m\u001b[0;34m.\u001b[0m\u001b[0m__name__\u001b[0m\u001b[0;34m)\u001b[0m\u001b[0;34m\u001b[0m\u001b[0;34m\u001b[0m\u001b[0m\n\u001b[0m\u001b[1;32m     53\u001b[0m     \u001b[0;32mreturn\u001b[0m \u001b[0mfunc\u001b[0m\u001b[0;34m(\u001b[0m\u001b[0;34m*\u001b[0m\u001b[0margs\u001b[0m\u001b[0;34m,\u001b[0m \u001b[0;34m**\u001b[0m\u001b[0mkwargs\u001b[0m\u001b[0;34m)\u001b[0m\u001b[0;34m\u001b[0m\u001b[0;34m\u001b[0m\u001b[0m\n\u001b[1;32m     54\u001b[0m \u001b[0;34m\u001b[0m\u001b[0m\n",
            "\u001b[0;31mDisabledFunctionError\u001b[0m: cv2.imshow() is disabled in Colab, because it causes Jupyter sessions\nto crash; see https://github.com/jupyter/notebook/issues/3935.\nAs a substitution, consider using\n  from google.colab.patches import cv2_imshow\n"
          ],
          "errorDetails": {
            "actions": [
              {
                "action": "open_snippet",
                "actionText": "Search Snippets for cv2.imshow",
                "snippetFilter": "cv2.imshow"
              }
            ]
          }
        }
      ]
    },
    {
      "cell_type": "markdown",
      "source": [
        "# Harris Corner Detection\n"
      ],
      "metadata": {
        "id": "YsLW-3Ch0G5x"
      }
    },
    {
      "cell_type": "code",
      "source": [
        "img_chess = ('/content/drive/MyDrive/Images/Object Detection/chessboard.jpg')\n",
        "img_read1 = cv.imread(img_chess)\n",
        "gray = cv.cvtColor(img_read1, cv.COLOR_BGR2GRAY)\n",
        "gray = np.float32(gray)\n",
        "dst = cv.cornerHarris(gray,2,3,0.04)\n",
        "#result is dilated for marking the corners, not important\n",
        "dst = cv.dilate(dst,None)\n",
        "# Threshold for an optimal value, it may vary depending on the image.\n",
        "img[dst>0.01*dst.max()]=[0,0,255]\n",
        "cv.imshow('dst',img)\n",
        "if cv.waitKey(0) & 0xff == 27:\n",
        "    cv.destroyAllWindows()"
      ],
      "metadata": {
        "colab": {
          "base_uri": "https://localhost:8080/",
          "height": 235
        },
        "id": "M_ZSJA4CyWCz",
        "outputId": "48338bfb-171c-489a-d53f-d2f2cab20494"
      },
      "execution_count": 26,
      "outputs": [
        {
          "output_type": "error",
          "ename": "error",
          "evalue": "ignored",
          "traceback": [
            "\u001b[0;31m---------------------------------------------------------------------------\u001b[0m",
            "\u001b[0;31merror\u001b[0m                                     Traceback (most recent call last)",
            "\u001b[0;32m<ipython-input-26-6036c3c465cb>\u001b[0m in \u001b[0;36m<module>\u001b[0;34m()\u001b[0m\n\u001b[1;32m      1\u001b[0m \u001b[0mimg_chess\u001b[0m \u001b[0;34m=\u001b[0m \u001b[0;34m(\u001b[0m\u001b[0;34m'/content/drive/MyDrive/Images/Object Detection/chessboard.jpg'\u001b[0m\u001b[0;34m)\u001b[0m\u001b[0;34m\u001b[0m\u001b[0;34m\u001b[0m\u001b[0m\n\u001b[1;32m      2\u001b[0m \u001b[0mimg_read1\u001b[0m \u001b[0;34m=\u001b[0m \u001b[0mcv\u001b[0m\u001b[0;34m.\u001b[0m\u001b[0mimread\u001b[0m\u001b[0;34m(\u001b[0m\u001b[0mimg_chess\u001b[0m\u001b[0;34m)\u001b[0m\u001b[0;34m\u001b[0m\u001b[0;34m\u001b[0m\u001b[0m\n\u001b[0;32m----> 3\u001b[0;31m \u001b[0mgray\u001b[0m \u001b[0;34m=\u001b[0m \u001b[0mcv\u001b[0m\u001b[0;34m.\u001b[0m\u001b[0mcvtColor\u001b[0m\u001b[0;34m(\u001b[0m\u001b[0mimg_read1\u001b[0m\u001b[0;34m,\u001b[0m \u001b[0mcv\u001b[0m\u001b[0;34m.\u001b[0m\u001b[0mCOLOR_BGR2GRAY\u001b[0m\u001b[0;34m)\u001b[0m\u001b[0;34m\u001b[0m\u001b[0;34m\u001b[0m\u001b[0m\n\u001b[0m\u001b[1;32m      4\u001b[0m \u001b[0mgray\u001b[0m \u001b[0;34m=\u001b[0m \u001b[0mnp\u001b[0m\u001b[0;34m.\u001b[0m\u001b[0mfloat32\u001b[0m\u001b[0;34m(\u001b[0m\u001b[0mgray\u001b[0m\u001b[0;34m)\u001b[0m\u001b[0;34m\u001b[0m\u001b[0;34m\u001b[0m\u001b[0m\n\u001b[1;32m      5\u001b[0m \u001b[0mdst\u001b[0m \u001b[0;34m=\u001b[0m \u001b[0mcv\u001b[0m\u001b[0;34m.\u001b[0m\u001b[0mcornerHarris\u001b[0m\u001b[0;34m(\u001b[0m\u001b[0mgray\u001b[0m\u001b[0;34m,\u001b[0m\u001b[0;36m2\u001b[0m\u001b[0;34m,\u001b[0m\u001b[0;36m3\u001b[0m\u001b[0;34m,\u001b[0m\u001b[0;36m0.04\u001b[0m\u001b[0;34m)\u001b[0m\u001b[0;34m\u001b[0m\u001b[0;34m\u001b[0m\u001b[0m\n",
            "\u001b[0;31merror\u001b[0m: OpenCV(4.1.2) /io/opencv/modules/imgproc/src/color.cpp:182: error: (-215:Assertion failed) !_src.empty() in function 'cvtColor'\n"
          ]
        }
      ]
    },
    {
      "cell_type": "markdown",
      "source": [
        "# Shi-Tomasi Detection"
      ],
      "metadata": {
        "id": "RO_x30TQ2PvR"
      }
    },
    {
      "cell_type": "code",
      "source": [
        "blox = cv.imread('/content/drive/MyDrive/Images/Object Detection/chessboard.jpg')\n",
        "gray = cv.cvtColor(blox,cv.COLOR_BGR2GRAY)\n",
        "corners = cv.goodFeaturesToTrack(gray,25,0.01,10)\n",
        "corners = np.int0(corners)\n",
        "for i in corners:\n",
        "    x,y = i.ravel()\n",
        "    cv.circle(img,(x,y),3,255,-1)\n",
        "plt.imshow(blox),plt.show()"
      ],
      "metadata": {
        "colab": {
          "base_uri": "https://localhost:8080/",
          "height": 235
        },
        "id": "IMy0wgcd1eiQ",
        "outputId": "8a3d5cae-e4a4-4a07-9ef9-15965dd6c5a8"
      },
      "execution_count": 27,
      "outputs": [
        {
          "output_type": "error",
          "ename": "error",
          "evalue": "ignored",
          "traceback": [
            "\u001b[0;31m---------------------------------------------------------------------------\u001b[0m",
            "\u001b[0;31merror\u001b[0m                                     Traceback (most recent call last)",
            "\u001b[0;32m<ipython-input-27-9548b77983f9>\u001b[0m in \u001b[0;36m<module>\u001b[0;34m()\u001b[0m\n\u001b[1;32m      1\u001b[0m \u001b[0mblox\u001b[0m \u001b[0;34m=\u001b[0m \u001b[0mcv\u001b[0m\u001b[0;34m.\u001b[0m\u001b[0mimread\u001b[0m\u001b[0;34m(\u001b[0m\u001b[0;34m'/content/drive/MyDrive/Images/Object Detection/chessboard.jpg'\u001b[0m\u001b[0;34m)\u001b[0m\u001b[0;34m\u001b[0m\u001b[0;34m\u001b[0m\u001b[0m\n\u001b[0;32m----> 2\u001b[0;31m \u001b[0mgray\u001b[0m \u001b[0;34m=\u001b[0m \u001b[0mcv\u001b[0m\u001b[0;34m.\u001b[0m\u001b[0mcvtColor\u001b[0m\u001b[0;34m(\u001b[0m\u001b[0mblox\u001b[0m\u001b[0;34m,\u001b[0m\u001b[0mcv\u001b[0m\u001b[0;34m.\u001b[0m\u001b[0mCOLOR_BGR2GRAY\u001b[0m\u001b[0;34m)\u001b[0m\u001b[0;34m\u001b[0m\u001b[0;34m\u001b[0m\u001b[0m\n\u001b[0m\u001b[1;32m      3\u001b[0m \u001b[0mcorners\u001b[0m \u001b[0;34m=\u001b[0m \u001b[0mcv\u001b[0m\u001b[0;34m.\u001b[0m\u001b[0mgoodFeaturesToTrack\u001b[0m\u001b[0;34m(\u001b[0m\u001b[0mgray\u001b[0m\u001b[0;34m,\u001b[0m\u001b[0;36m25\u001b[0m\u001b[0;34m,\u001b[0m\u001b[0;36m0.01\u001b[0m\u001b[0;34m,\u001b[0m\u001b[0;36m10\u001b[0m\u001b[0;34m)\u001b[0m\u001b[0;34m\u001b[0m\u001b[0;34m\u001b[0m\u001b[0m\n\u001b[1;32m      4\u001b[0m \u001b[0mcorners\u001b[0m \u001b[0;34m=\u001b[0m \u001b[0mnp\u001b[0m\u001b[0;34m.\u001b[0m\u001b[0mint0\u001b[0m\u001b[0;34m(\u001b[0m\u001b[0mcorners\u001b[0m\u001b[0;34m)\u001b[0m\u001b[0;34m\u001b[0m\u001b[0;34m\u001b[0m\u001b[0m\n\u001b[1;32m      5\u001b[0m \u001b[0;32mfor\u001b[0m \u001b[0mi\u001b[0m \u001b[0;32min\u001b[0m \u001b[0mcorners\u001b[0m\u001b[0;34m:\u001b[0m\u001b[0;34m\u001b[0m\u001b[0;34m\u001b[0m\u001b[0m\n",
            "\u001b[0;31merror\u001b[0m: OpenCV(4.1.2) /io/opencv/modules/imgproc/src/color.cpp:182: error: (-215:Assertion failed) !_src.empty() in function 'cvtColor'\n"
          ]
        }
      ]
    },
    {
      "cell_type": "markdown",
      "source": [
        "# Hough Line Transform"
      ],
      "metadata": {
        "id": "AbF3aY-424pE"
      }
    },
    {
      "cell_type": "code",
      "source": [
        "sudoku = cv.imread('/content/drive/MyDrive/Images/Object Detection/Sudoku.jpg')\n",
        "gray = cv.cvtColor(sudoku,cv.COLOR_BGR2GRAY)\n",
        "edges = cv.Canny(gray,50,150,apertureSize = 3)\n",
        "\n",
        "lines = cv.HoughLines(edges,1,np.pi/180,200)\n",
        "for rho,theta in lines[0]:\n",
        "    a = np.cos(theta)\n",
        "    b = np.sin(theta)\n",
        "    x0 = a*rho\n",
        "    y0 = b*rho\n",
        "    x1 = int(x0 + 1000*(-b))\n",
        "    y1 = int(y0 + 1000*(a))\n",
        "    x2 = int(x0 - 1000*(-b))\n",
        "    y2 = int(y0 - 1000*(a))\n",
        "\n",
        "    cv.line(sudoku,(x1,y1),(x2,y2),(0,0,255),2)\n",
        "\n",
        "cv.imwrite('houghlines3.jpg',sudoku)"
      ],
      "metadata": {
        "colab": {
          "base_uri": "https://localhost:8080/",
          "height": 235
        },
        "id": "S4AHq0zf2lqO",
        "outputId": "20be5cea-3a7b-485a-f5d8-915923345298"
      },
      "execution_count": 29,
      "outputs": [
        {
          "output_type": "error",
          "ename": "NameError",
          "evalue": "ignored",
          "traceback": [
            "\u001b[0;31m---------------------------------------------------------------------------\u001b[0m",
            "\u001b[0;31mNameError\u001b[0m                                 Traceback (most recent call last)",
            "\u001b[0;32m<ipython-input-29-1baaea51203c>\u001b[0m in \u001b[0;36m<module>\u001b[0;34m()\u001b[0m\n\u001b[1;32m      1\u001b[0m \u001b[0msudoku\u001b[0m \u001b[0;34m=\u001b[0m \u001b[0mcv\u001b[0m\u001b[0;34m.\u001b[0m\u001b[0mimread\u001b[0m\u001b[0;34m(\u001b[0m\u001b[0;34m'/content/drive/MyDrive/Images/Object Detection/Sudoku.jpg'\u001b[0m\u001b[0;34m)\u001b[0m\u001b[0;34m\u001b[0m\u001b[0;34m\u001b[0m\u001b[0m\n\u001b[1;32m      2\u001b[0m \u001b[0;31m#gray = cv.cvtColor(sudoku,cv.COLOR_BGR2GRAY)\u001b[0m\u001b[0;34m\u001b[0m\u001b[0;34m\u001b[0m\u001b[0;34m\u001b[0m\u001b[0m\n\u001b[0;32m----> 3\u001b[0;31m \u001b[0medges\u001b[0m \u001b[0;34m=\u001b[0m \u001b[0mcv\u001b[0m\u001b[0;34m.\u001b[0m\u001b[0mCanny\u001b[0m\u001b[0;34m(\u001b[0m\u001b[0mgray\u001b[0m\u001b[0;34m,\u001b[0m\u001b[0;36m50\u001b[0m\u001b[0;34m,\u001b[0m\u001b[0;36m150\u001b[0m\u001b[0;34m,\u001b[0m\u001b[0mapertureSize\u001b[0m \u001b[0;34m=\u001b[0m \u001b[0;36m3\u001b[0m\u001b[0;34m)\u001b[0m\u001b[0;34m\u001b[0m\u001b[0;34m\u001b[0m\u001b[0m\n\u001b[0m\u001b[1;32m      4\u001b[0m \u001b[0;34m\u001b[0m\u001b[0m\n\u001b[1;32m      5\u001b[0m \u001b[0mlines\u001b[0m \u001b[0;34m=\u001b[0m \u001b[0mcv\u001b[0m\u001b[0;34m.\u001b[0m\u001b[0mHoughLines\u001b[0m\u001b[0;34m(\u001b[0m\u001b[0medges\u001b[0m\u001b[0;34m,\u001b[0m\u001b[0;36m1\u001b[0m\u001b[0;34m,\u001b[0m\u001b[0mnp\u001b[0m\u001b[0;34m.\u001b[0m\u001b[0mpi\u001b[0m\u001b[0;34m/\u001b[0m\u001b[0;36m180\u001b[0m\u001b[0;34m,\u001b[0m\u001b[0;36m200\u001b[0m\u001b[0;34m)\u001b[0m\u001b[0;34m\u001b[0m\u001b[0;34m\u001b[0m\u001b[0m\n",
            "\u001b[0;31mNameError\u001b[0m: name 'gray' is not defined"
          ]
        }
      ]
    },
    {
      "cell_type": "code",
      "source": [
        ""
      ],
      "metadata": {
        "id": "5HInj0Da3LzH"
      },
      "execution_count": null,
      "outputs": []
    }
  ]
}