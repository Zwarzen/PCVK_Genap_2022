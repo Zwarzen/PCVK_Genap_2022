{
  "nbformat": 4,
  "nbformat_minor": 0,
  "metadata": {
    "colab": {
      "name": "week7.ipynb",
      "provenance": [],
      "collapsed_sections": [],
      "authorship_tag": "ABX9TyNS8aWkQN0V//8OVL60HJiH",
      "include_colab_link": true
    },
    "kernelspec": {
      "name": "python3",
      "display_name": "Python 3"
    },
    "language_info": {
      "name": "python"
    }
  },
  "cells": [
    {
      "cell_type": "markdown",
      "metadata": {
        "id": "view-in-github",
        "colab_type": "text"
      },
      "source": [
        "<a href=\"https://colab.research.google.com/github/Zwarzen/PCVK_Genap_2022/blob/main/week7.ipynb\" target=\"_parent\"><img src=\"https://colab.research.google.com/assets/colab-badge.svg\" alt=\"Open In Colab\"/></a>"
      ]
    },
    {
      "cell_type": "code",
      "execution_count": 1,
      "metadata": {
        "colab": {
          "base_uri": "https://localhost:8080/"
        },
        "id": "yy61GWaoVp-6",
        "outputId": "aecb0d36-4271-436a-acf5-8cb154384ebb"
      },
      "outputs": [
        {
          "output_type": "stream",
          "name": "stdout",
          "text": [
            "Mounted at /content/drive\n"
          ]
        }
      ],
      "source": [
        "from google.colab import drive\n",
        "\n",
        "drive.mount('/content/drive')"
      ]
    },
    {
      "cell_type": "code",
      "source": [
        "import cv2 as cv\n",
        "import numpy as np\n",
        "import matplotlib.pyplot as plt\n",
        "import math\n",
        "from google.colab.patches import cv2_imshow\n",
        "from PIL import Image as im"
      ],
      "metadata": {
        "id": "5CdenE4wVuRl"
      },
      "execution_count": 2,
      "outputs": []
    },
    {
      "cell_type": "code",
      "source": [
        "def convolution2D(image, kernel, padding, strides):\n",
        "\n",
        "    gambar_testrisang = cv.imread('/content/drive/MyDrive/Images/mandrill.tiff')\n",
        "    gambar_gray = cv.cvtColor(gambar_testrisang, cv.COLOR_BGR2GRAY)    \n",
        "\n",
        "    # berikut adalah kernel penajaman gambar.\n",
        "    kernel_penajaman = (np.array([[0, -1, 0],\n",
        "                    [-1, 5, -1],\n",
        "                    [0, -1, 0]]))\n",
        "\n",
        "    convolution2D(gambar_gray,kernel_penajaman,1,2)"
      ],
      "metadata": {
        "id": "7PISYTWCV5O-"
      },
      "execution_count": 3,
      "outputs": []
    },
    {
      "cell_type": "code",
      "source": [
        ""
      ],
      "metadata": {
        "id": "v97YUfloYKN0"
      },
      "execution_count": null,
      "outputs": []
    }
  ]
}